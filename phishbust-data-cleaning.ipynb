{
 "cells": [
  {
   "cell_type": "code",
   "execution_count": 157,
   "metadata": {
    "execution": {
     "iopub.execute_input": "2024-04-05T12:45:52.351095Z",
     "iopub.status.busy": "2024-04-05T12:45:52.349615Z",
     "iopub.status.idle": "2024-04-05T12:45:52.358963Z",
     "shell.execute_reply": "2024-04-05T12:45:52.357187Z",
     "shell.execute_reply.started": "2024-04-05T12:45:52.351037Z"
    }
   },
   "outputs": [],
   "source": [
    "import pandas as pd\n",
    "import numpy as np"
   ]
  },
  {
   "cell_type": "markdown",
   "metadata": {},
   "source": [
    "CSV dosyasını okuturken 78. sütunda karışık veri tipleri olduğu hatasını verdi. Bu hatayı \"low_memory = False\" komutuyla giderdik."
   ]
  },
  {
   "cell_type": "code",
   "execution_count": 158,
   "metadata": {
    "execution": {
     "iopub.execute_input": "2024-04-05T12:45:52.363510Z",
     "iopub.status.busy": "2024-04-05T12:45:52.362805Z",
     "iopub.status.idle": "2024-04-05T12:45:52.670557Z",
     "shell.execute_reply": "2024-04-05T12:45:52.668906Z",
     "shell.execute_reply.started": "2024-04-05T12:45:52.363456Z"
    }
   },
   "outputs": [],
   "source": [
    "data = pd.read_csv('/kaggle/input/dataset-for-link-phishing-detection/dataset_link_phishing.csv', low_memory = False)"
   ]
  },
  {
   "cell_type": "markdown",
   "metadata": {},
   "source": [
    "Veri setimizle ilgili önce genel bir bilgi toplayalım."
   ]
  },
  {
   "cell_type": "code",
   "execution_count": 159,
   "metadata": {
    "execution": {
     "iopub.execute_input": "2024-04-05T12:45:52.673037Z",
     "iopub.status.busy": "2024-04-05T12:45:52.672527Z",
     "iopub.status.idle": "2024-04-05T12:45:52.703506Z",
     "shell.execute_reply": "2024-04-05T12:45:52.702399Z",
     "shell.execute_reply.started": "2024-04-05T12:45:52.672995Z"
    }
   },
   "outputs": [
    {
     "name": "stdout",
     "output_type": "stream",
     "text": [
      "<class 'pandas.core.frame.DataFrame'>\n",
      "RangeIndex: 19431 entries, 0 to 19430\n",
      "Data columns (total 87 columns):\n",
      " #   Column                      Non-Null Count  Dtype  \n",
      "---  ------                      --------------  -----  \n",
      " 0   Unnamed: 0                  19431 non-null  int64  \n",
      " 1   url                         19431 non-null  object \n",
      " 2   url_length                  19431 non-null  int64  \n",
      " 3   hostname_length             19431 non-null  int64  \n",
      " 4   ip                          19431 non-null  int64  \n",
      " 5   total_of.                   19431 non-null  int64  \n",
      " 6   total_of-                   19431 non-null  int64  \n",
      " 7   total_of@                   19431 non-null  int64  \n",
      " 8   total_of?                   19431 non-null  int64  \n",
      " 9   total_of&                   19431 non-null  int64  \n",
      " 10  total_of=                   19431 non-null  int64  \n",
      " 11  total_of_                   19431 non-null  int64  \n",
      " 12  total_of~                   19431 non-null  int64  \n",
      " 13  total_of%                   19431 non-null  int64  \n",
      " 14  total_of/                   19431 non-null  int64  \n",
      " 15  total_of*                   19431 non-null  int64  \n",
      " 16  total_of:                   19431 non-null  int64  \n",
      " 17  total_of,                   19431 non-null  int64  \n",
      " 18  total_of;                   19431 non-null  int64  \n",
      " 19  total_of$                   19431 non-null  int64  \n",
      " 20  total_of_www                19431 non-null  int64  \n",
      " 21  total_of_com                19431 non-null  int64  \n",
      " 22  total_of_http_in_path       19431 non-null  int64  \n",
      " 23  https_token                 19431 non-null  int64  \n",
      " 24  ratio_digits_url            19431 non-null  float64\n",
      " 25  ratio_digits_host           19431 non-null  float64\n",
      " 26  punycode                    19431 non-null  int64  \n",
      " 27  port                        19431 non-null  int64  \n",
      " 28  tld_in_path                 19431 non-null  int64  \n",
      " 29  tld_in_subdomain            19431 non-null  int64  \n",
      " 30  abnormal_subdomain          19431 non-null  int64  \n",
      " 31  nb_subdomains               19431 non-null  int64  \n",
      " 32  prefix_suffix               19431 non-null  int64  \n",
      " 33  random_domain               19431 non-null  int64  \n",
      " 34  shortening_service          19431 non-null  int64  \n",
      " 35  path_extension              19431 non-null  int64  \n",
      " 36  nb_redirection              19431 non-null  int64  \n",
      " 37  nb_external_redirection     19431 non-null  int64  \n",
      " 38  length_words_raw            19431 non-null  int64  \n",
      " 39  char_repeat                 19431 non-null  int64  \n",
      " 40  shortest_words_raw          19431 non-null  int64  \n",
      " 41  shortest_word_host          19431 non-null  int64  \n",
      " 42  shortest_word_path          19431 non-null  int64  \n",
      " 43  longest_words_raw           19431 non-null  int64  \n",
      " 44  longest_word_host           19431 non-null  int64  \n",
      " 45  longest_word_path           19431 non-null  int64  \n",
      " 46  avg_words_raw               19431 non-null  float64\n",
      " 47  avg_word_host               19431 non-null  float64\n",
      " 48  avg_word_path               19431 non-null  float64\n",
      " 49  phish_hints                 19431 non-null  int64  \n",
      " 50  domain_in_brand             19431 non-null  int64  \n",
      " 51  brand_in_subdomain          19431 non-null  int64  \n",
      " 52  brand_in_path               19431 non-null  int64  \n",
      " 53  suspecious_tld              19431 non-null  int64  \n",
      " 54  statistical_report          19431 non-null  int64  \n",
      " 55  nb_hyperlinks               19431 non-null  int64  \n",
      " 56  ratio_intHyperlinks         19431 non-null  float64\n",
      " 57  ratio_extHyperlinks         19431 non-null  float64\n",
      " 58  ratio_nullHyperlinks        19431 non-null  int64  \n",
      " 59  nb_extCSS                   19431 non-null  int64  \n",
      " 60  ratio_intRedirection        19431 non-null  int64  \n",
      " 61  ratio_extRedirection        19431 non-null  float64\n",
      " 62  ratio_intErrors             19431 non-null  int64  \n",
      " 63  ratio_extErrors             19431 non-null  float64\n",
      " 64  login_form                  19431 non-null  int64  \n",
      " 65  external_favicon            19431 non-null  int64  \n",
      " 66  links_in_tags               19431 non-null  float64\n",
      " 67  submit_email                19431 non-null  int64  \n",
      " 68  ratio_intMedia              19431 non-null  float64\n",
      " 69  ratio_extMedia              19431 non-null  float64\n",
      " 70  sfh                         19431 non-null  int64  \n",
      " 71  iframe                      19431 non-null  int64  \n",
      " 72  popup_window                19431 non-null  int64  \n",
      " 73  safe_anchor                 19431 non-null  float64\n",
      " 74  onmouseover                 19431 non-null  int64  \n",
      " 75  right_clic                  19431 non-null  int64  \n",
      " 76  empty_title                 19431 non-null  int64  \n",
      " 77  domain_in_title             19431 non-null  int64  \n",
      " 78  domain_with_copyright       19431 non-null  object \n",
      " 79  whois_registered_domain     19431 non-null  int64  \n",
      " 80  domain_registration_length  19431 non-null  int64  \n",
      " 81  domain_age                  19431 non-null  int64  \n",
      " 82  web_traffic                 19431 non-null  int64  \n",
      " 83  dns_record                  19431 non-null  int64  \n",
      " 84  google_index                19431 non-null  int64  \n",
      " 85  page_rank                   19431 non-null  int64  \n",
      " 86  status                      19431 non-null  object \n",
      "dtypes: float64(13), int64(71), object(3)\n",
      "memory usage: 12.9+ MB\n"
     ]
    }
   ],
   "source": [
    "data.info()"
   ]
  },
  {
   "cell_type": "code",
   "execution_count": 160,
   "metadata": {
    "execution": {
     "iopub.execute_input": "2024-04-05T12:45:52.706059Z",
     "iopub.status.busy": "2024-04-05T12:45:52.704810Z",
     "iopub.status.idle": "2024-04-05T12:45:52.714628Z",
     "shell.execute_reply": "2024-04-05T12:45:52.713291Z",
     "shell.execute_reply.started": "2024-04-05T12:45:52.706001Z"
    }
   },
   "outputs": [
    {
     "data": {
      "text/plain": [
       "(19431, 87)"
      ]
     },
     "execution_count": 160,
     "metadata": {},
     "output_type": "execute_result"
    }
   ],
   "source": [
    "data.shape"
   ]
  },
  {
   "cell_type": "markdown",
   "metadata": {},
   "source": [
    "İlk ve son 5 satıra bakalım."
   ]
  },
  {
   "cell_type": "code",
   "execution_count": 161,
   "metadata": {
    "execution": {
     "iopub.execute_input": "2024-04-05T12:45:52.718554Z",
     "iopub.status.busy": "2024-04-05T12:45:52.717751Z",
     "iopub.status.idle": "2024-04-05T12:45:52.744194Z",
     "shell.execute_reply": "2024-04-05T12:45:52.742312Z",
     "shell.execute_reply.started": "2024-04-05T12:45:52.718513Z"
    }
   },
   "outputs": [
    {
     "data": {
      "text/html": [
       "<div>\n",
       "<style scoped>\n",
       "    .dataframe tbody tr th:only-of-type {\n",
       "        vertical-align: middle;\n",
       "    }\n",
       "\n",
       "    .dataframe tbody tr th {\n",
       "        vertical-align: top;\n",
       "    }\n",
       "\n",
       "    .dataframe thead th {\n",
       "        text-align: right;\n",
       "    }\n",
       "</style>\n",
       "<table border=\"1\" class=\"dataframe\">\n",
       "  <thead>\n",
       "    <tr style=\"text-align: right;\">\n",
       "      <th></th>\n",
       "      <th>Unnamed: 0</th>\n",
       "      <th>url</th>\n",
       "      <th>url_length</th>\n",
       "      <th>hostname_length</th>\n",
       "      <th>ip</th>\n",
       "      <th>total_of.</th>\n",
       "      <th>total_of-</th>\n",
       "      <th>total_of@</th>\n",
       "      <th>total_of?</th>\n",
       "      <th>total_of&amp;</th>\n",
       "      <th>...</th>\n",
       "      <th>domain_in_title</th>\n",
       "      <th>domain_with_copyright</th>\n",
       "      <th>whois_registered_domain</th>\n",
       "      <th>domain_registration_length</th>\n",
       "      <th>domain_age</th>\n",
       "      <th>web_traffic</th>\n",
       "      <th>dns_record</th>\n",
       "      <th>google_index</th>\n",
       "      <th>page_rank</th>\n",
       "      <th>status</th>\n",
       "    </tr>\n",
       "  </thead>\n",
       "  <tbody>\n",
       "    <tr>\n",
       "      <th>0</th>\n",
       "      <td>0</td>\n",
       "      <td>http://www.progarchives.com/album.asp?id=61737</td>\n",
       "      <td>46</td>\n",
       "      <td>20</td>\n",
       "      <td>0</td>\n",
       "      <td>3</td>\n",
       "      <td>0</td>\n",
       "      <td>0</td>\n",
       "      <td>1</td>\n",
       "      <td>0</td>\n",
       "      <td>...</td>\n",
       "      <td>1</td>\n",
       "      <td>one</td>\n",
       "      <td>0</td>\n",
       "      <td>627</td>\n",
       "      <td>6678</td>\n",
       "      <td>78526</td>\n",
       "      <td>0</td>\n",
       "      <td>0</td>\n",
       "      <td>5</td>\n",
       "      <td>phishing</td>\n",
       "    </tr>\n",
       "    <tr>\n",
       "      <th>1</th>\n",
       "      <td>1</td>\n",
       "      <td>http://signin.eday.co.uk.ws.edayisapi.dllsign....</td>\n",
       "      <td>128</td>\n",
       "      <td>120</td>\n",
       "      <td>0</td>\n",
       "      <td>10</td>\n",
       "      <td>0</td>\n",
       "      <td>0</td>\n",
       "      <td>0</td>\n",
       "      <td>0</td>\n",
       "      <td>...</td>\n",
       "      <td>1</td>\n",
       "      <td>zero</td>\n",
       "      <td>0</td>\n",
       "      <td>300</td>\n",
       "      <td>65</td>\n",
       "      <td>0</td>\n",
       "      <td>0</td>\n",
       "      <td>1</td>\n",
       "      <td>0</td>\n",
       "      <td>phishing</td>\n",
       "    </tr>\n",
       "    <tr>\n",
       "      <th>2</th>\n",
       "      <td>2</td>\n",
       "      <td>http://www.avevaconstruction.com/blesstool/ima...</td>\n",
       "      <td>52</td>\n",
       "      <td>25</td>\n",
       "      <td>0</td>\n",
       "      <td>3</td>\n",
       "      <td>0</td>\n",
       "      <td>0</td>\n",
       "      <td>0</td>\n",
       "      <td>0</td>\n",
       "      <td>...</td>\n",
       "      <td>1</td>\n",
       "      <td>zero</td>\n",
       "      <td>0</td>\n",
       "      <td>119</td>\n",
       "      <td>1707</td>\n",
       "      <td>0</td>\n",
       "      <td>0</td>\n",
       "      <td>1</td>\n",
       "      <td>0</td>\n",
       "      <td>phishing</td>\n",
       "    </tr>\n",
       "    <tr>\n",
       "      <th>3</th>\n",
       "      <td>3</td>\n",
       "      <td>http://www.jp519.com/</td>\n",
       "      <td>21</td>\n",
       "      <td>13</td>\n",
       "      <td>0</td>\n",
       "      <td>2</td>\n",
       "      <td>0</td>\n",
       "      <td>0</td>\n",
       "      <td>0</td>\n",
       "      <td>0</td>\n",
       "      <td>...</td>\n",
       "      <td>1</td>\n",
       "      <td>one</td>\n",
       "      <td>0</td>\n",
       "      <td>130</td>\n",
       "      <td>1331</td>\n",
       "      <td>0</td>\n",
       "      <td>0</td>\n",
       "      <td>0</td>\n",
       "      <td>0</td>\n",
       "      <td>legitimate</td>\n",
       "    </tr>\n",
       "    <tr>\n",
       "      <th>4</th>\n",
       "      <td>4</td>\n",
       "      <td>https://www.velocidrone.com/</td>\n",
       "      <td>28</td>\n",
       "      <td>19</td>\n",
       "      <td>0</td>\n",
       "      <td>2</td>\n",
       "      <td>0</td>\n",
       "      <td>0</td>\n",
       "      <td>0</td>\n",
       "      <td>0</td>\n",
       "      <td>...</td>\n",
       "      <td>0</td>\n",
       "      <td>zero</td>\n",
       "      <td>0</td>\n",
       "      <td>164</td>\n",
       "      <td>1662</td>\n",
       "      <td>312044</td>\n",
       "      <td>0</td>\n",
       "      <td>0</td>\n",
       "      <td>4</td>\n",
       "      <td>legitimate</td>\n",
       "    </tr>\n",
       "  </tbody>\n",
       "</table>\n",
       "<p>5 rows × 87 columns</p>\n",
       "</div>"
      ],
      "text/plain": [
       "   Unnamed: 0                                                url  url_length  \\\n",
       "0           0     http://www.progarchives.com/album.asp?id=61737          46   \n",
       "1           1  http://signin.eday.co.uk.ws.edayisapi.dllsign....         128   \n",
       "2           2  http://www.avevaconstruction.com/blesstool/ima...          52   \n",
       "3           3                              http://www.jp519.com/          21   \n",
       "4           4                       https://www.velocidrone.com/          28   \n",
       "\n",
       "   hostname_length  ip  total_of.  total_of-  total_of@  total_of?  total_of&  \\\n",
       "0               20   0          3          0          0          1          0   \n",
       "1              120   0         10          0          0          0          0   \n",
       "2               25   0          3          0          0          0          0   \n",
       "3               13   0          2          0          0          0          0   \n",
       "4               19   0          2          0          0          0          0   \n",
       "\n",
       "   ...  domain_in_title  domain_with_copyright  whois_registered_domain  \\\n",
       "0  ...                1                    one                        0   \n",
       "1  ...                1                   zero                        0   \n",
       "2  ...                1                   zero                        0   \n",
       "3  ...                1                    one                        0   \n",
       "4  ...                0                   zero                        0   \n",
       "\n",
       "   domain_registration_length  domain_age  web_traffic  dns_record  \\\n",
       "0                         627        6678        78526           0   \n",
       "1                         300          65            0           0   \n",
       "2                         119        1707            0           0   \n",
       "3                         130        1331            0           0   \n",
       "4                         164        1662       312044           0   \n",
       "\n",
       "   google_index  page_rank      status  \n",
       "0             0          5    phishing  \n",
       "1             1          0    phishing  \n",
       "2             1          0    phishing  \n",
       "3             0          0  legitimate  \n",
       "4             0          4  legitimate  \n",
       "\n",
       "[5 rows x 87 columns]"
      ]
     },
     "execution_count": 161,
     "metadata": {},
     "output_type": "execute_result"
    }
   ],
   "source": [
    "data.head()"
   ]
  },
  {
   "cell_type": "code",
   "execution_count": 162,
   "metadata": {
    "execution": {
     "iopub.execute_input": "2024-04-05T12:45:52.746975Z",
     "iopub.status.busy": "2024-04-05T12:45:52.746492Z",
     "iopub.status.idle": "2024-04-05T12:45:52.772164Z",
     "shell.execute_reply": "2024-04-05T12:45:52.771140Z",
     "shell.execute_reply.started": "2024-04-05T12:45:52.746925Z"
    }
   },
   "outputs": [
    {
     "data": {
      "text/html": [
       "<div>\n",
       "<style scoped>\n",
       "    .dataframe tbody tr th:only-of-type {\n",
       "        vertical-align: middle;\n",
       "    }\n",
       "\n",
       "    .dataframe tbody tr th {\n",
       "        vertical-align: top;\n",
       "    }\n",
       "\n",
       "    .dataframe thead th {\n",
       "        text-align: right;\n",
       "    }\n",
       "</style>\n",
       "<table border=\"1\" class=\"dataframe\">\n",
       "  <thead>\n",
       "    <tr style=\"text-align: right;\">\n",
       "      <th></th>\n",
       "      <th>Unnamed: 0</th>\n",
       "      <th>url</th>\n",
       "      <th>url_length</th>\n",
       "      <th>hostname_length</th>\n",
       "      <th>ip</th>\n",
       "      <th>total_of.</th>\n",
       "      <th>total_of-</th>\n",
       "      <th>total_of@</th>\n",
       "      <th>total_of?</th>\n",
       "      <th>total_of&amp;</th>\n",
       "      <th>...</th>\n",
       "      <th>domain_in_title</th>\n",
       "      <th>domain_with_copyright</th>\n",
       "      <th>whois_registered_domain</th>\n",
       "      <th>domain_registration_length</th>\n",
       "      <th>domain_age</th>\n",
       "      <th>web_traffic</th>\n",
       "      <th>dns_record</th>\n",
       "      <th>google_index</th>\n",
       "      <th>page_rank</th>\n",
       "      <th>status</th>\n",
       "    </tr>\n",
       "  </thead>\n",
       "  <tbody>\n",
       "    <tr>\n",
       "      <th>19426</th>\n",
       "      <td>11425</td>\n",
       "      <td>http://www.fontspace.com/category/blackletter</td>\n",
       "      <td>45</td>\n",
       "      <td>17</td>\n",
       "      <td>1</td>\n",
       "      <td>2</td>\n",
       "      <td>0</td>\n",
       "      <td>0</td>\n",
       "      <td>0</td>\n",
       "      <td>0</td>\n",
       "      <td>...</td>\n",
       "      <td>0</td>\n",
       "      <td>0</td>\n",
       "      <td>0</td>\n",
       "      <td>448</td>\n",
       "      <td>5396</td>\n",
       "      <td>3980</td>\n",
       "      <td>0</td>\n",
       "      <td>0</td>\n",
       "      <td>6</td>\n",
       "      <td>legitimate</td>\n",
       "    </tr>\n",
       "    <tr>\n",
       "      <th>19427</th>\n",
       "      <td>11426</td>\n",
       "      <td>http://www.budgetbots.com/server.php/Server%20...</td>\n",
       "      <td>84</td>\n",
       "      <td>18</td>\n",
       "      <td>1</td>\n",
       "      <td>5</td>\n",
       "      <td>0</td>\n",
       "      <td>1</td>\n",
       "      <td>1</td>\n",
       "      <td>0</td>\n",
       "      <td>...</td>\n",
       "      <td>1</td>\n",
       "      <td>0</td>\n",
       "      <td>0</td>\n",
       "      <td>211</td>\n",
       "      <td>6728</td>\n",
       "      <td>0</td>\n",
       "      <td>0</td>\n",
       "      <td>1</td>\n",
       "      <td>0</td>\n",
       "      <td>phishing</td>\n",
       "    </tr>\n",
       "    <tr>\n",
       "      <th>19428</th>\n",
       "      <td>11427</td>\n",
       "      <td>https://www.facebook.com/Interactive-Televisio...</td>\n",
       "      <td>105</td>\n",
       "      <td>16</td>\n",
       "      <td>1</td>\n",
       "      <td>2</td>\n",
       "      <td>6</td>\n",
       "      <td>0</td>\n",
       "      <td>1</td>\n",
       "      <td>0</td>\n",
       "      <td>...</td>\n",
       "      <td>0</td>\n",
       "      <td>0</td>\n",
       "      <td>0</td>\n",
       "      <td>2809</td>\n",
       "      <td>8515</td>\n",
       "      <td>8</td>\n",
       "      <td>0</td>\n",
       "      <td>1</td>\n",
       "      <td>10</td>\n",
       "      <td>legitimate</td>\n",
       "    </tr>\n",
       "    <tr>\n",
       "      <th>19429</th>\n",
       "      <td>11428</td>\n",
       "      <td>http://www.mypublicdomainpictures.com/</td>\n",
       "      <td>38</td>\n",
       "      <td>30</td>\n",
       "      <td>1</td>\n",
       "      <td>2</td>\n",
       "      <td>0</td>\n",
       "      <td>0</td>\n",
       "      <td>0</td>\n",
       "      <td>0</td>\n",
       "      <td>...</td>\n",
       "      <td>1</td>\n",
       "      <td>0</td>\n",
       "      <td>0</td>\n",
       "      <td>85</td>\n",
       "      <td>2836</td>\n",
       "      <td>2455493</td>\n",
       "      <td>0</td>\n",
       "      <td>0</td>\n",
       "      <td>4</td>\n",
       "      <td>legitimate</td>\n",
       "    </tr>\n",
       "    <tr>\n",
       "      <th>19430</th>\n",
       "      <td>11429</td>\n",
       "      <td>http://174.139.46.123/ap/signin?openid.pape.ma...</td>\n",
       "      <td>477</td>\n",
       "      <td>14</td>\n",
       "      <td>1</td>\n",
       "      <td>24</td>\n",
       "      <td>0</td>\n",
       "      <td>1</td>\n",
       "      <td>1</td>\n",
       "      <td>9</td>\n",
       "      <td>...</td>\n",
       "      <td>1</td>\n",
       "      <td>1</td>\n",
       "      <td>1</td>\n",
       "      <td>0</td>\n",
       "      <td>-1</td>\n",
       "      <td>0</td>\n",
       "      <td>1</td>\n",
       "      <td>1</td>\n",
       "      <td>0</td>\n",
       "      <td>phishing</td>\n",
       "    </tr>\n",
       "  </tbody>\n",
       "</table>\n",
       "<p>5 rows × 87 columns</p>\n",
       "</div>"
      ],
      "text/plain": [
       "       Unnamed: 0                                                url  \\\n",
       "19426       11425      http://www.fontspace.com/category/blackletter   \n",
       "19427       11426  http://www.budgetbots.com/server.php/Server%20...   \n",
       "19428       11427  https://www.facebook.com/Interactive-Televisio...   \n",
       "19429       11428             http://www.mypublicdomainpictures.com/   \n",
       "19430       11429  http://174.139.46.123/ap/signin?openid.pape.ma...   \n",
       "\n",
       "       url_length  hostname_length  ip  total_of.  total_of-  total_of@  \\\n",
       "19426          45               17   1          2          0          0   \n",
       "19427          84               18   1          5          0          1   \n",
       "19428         105               16   1          2          6          0   \n",
       "19429          38               30   1          2          0          0   \n",
       "19430         477               14   1         24          0          1   \n",
       "\n",
       "       total_of?  total_of&  ...  domain_in_title  domain_with_copyright  \\\n",
       "19426          0          0  ...                0                      0   \n",
       "19427          1          0  ...                1                      0   \n",
       "19428          1          0  ...                0                      0   \n",
       "19429          0          0  ...                1                      0   \n",
       "19430          1          9  ...                1                      1   \n",
       "\n",
       "       whois_registered_domain  domain_registration_length  domain_age  \\\n",
       "19426                        0                         448        5396   \n",
       "19427                        0                         211        6728   \n",
       "19428                        0                        2809        8515   \n",
       "19429                        0                          85        2836   \n",
       "19430                        1                           0          -1   \n",
       "\n",
       "       web_traffic  dns_record  google_index  page_rank      status  \n",
       "19426         3980           0             0          6  legitimate  \n",
       "19427            0           0             1          0    phishing  \n",
       "19428            8           0             1         10  legitimate  \n",
       "19429      2455493           0             0          4  legitimate  \n",
       "19430            0           1             1          0    phishing  \n",
       "\n",
       "[5 rows x 87 columns]"
      ]
     },
     "execution_count": 162,
     "metadata": {},
     "output_type": "execute_result"
    }
   ],
   "source": [
    "data.tail()"
   ]
  },
  {
   "cell_type": "markdown",
   "metadata": {},
   "source": [
    "Değişkenlerimizde boş değer var mı diye bakalım."
   ]
  },
  {
   "cell_type": "code",
   "execution_count": 163,
   "metadata": {
    "execution": {
     "iopub.execute_input": "2024-04-05T12:45:52.774213Z",
     "iopub.status.busy": "2024-04-05T12:45:52.773510Z",
     "iopub.status.idle": "2024-04-05T12:45:52.797133Z",
     "shell.execute_reply": "2024-04-05T12:45:52.795478Z",
     "shell.execute_reply.started": "2024-04-05T12:45:52.774166Z"
    }
   },
   "outputs": [
    {
     "data": {
      "text/plain": [
       "Unnamed: 0         0\n",
       "url                0\n",
       "url_length         0\n",
       "hostname_length    0\n",
       "ip                 0\n",
       "                  ..\n",
       "web_traffic        0\n",
       "dns_record         0\n",
       "google_index       0\n",
       "page_rank          0\n",
       "status             0\n",
       "Length: 87, dtype: int64"
      ]
     },
     "execution_count": 163,
     "metadata": {},
     "output_type": "execute_result"
    }
   ],
   "source": [
    "data.isnull().sum()"
   ]
  },
  {
   "cell_type": "markdown",
   "metadata": {},
   "source": [
    "\"Unnamed: 0\" sütununa gerek duyulmaz çünkü satırlar zaten benzersiz bir şekilde pandasta indekslenmiştir."
   ]
  },
  {
   "cell_type": "code",
   "execution_count": 164,
   "metadata": {
    "execution": {
     "iopub.execute_input": "2024-04-05T12:45:52.799896Z",
     "iopub.status.busy": "2024-04-05T12:45:52.799356Z",
     "iopub.status.idle": "2024-04-05T12:45:52.815457Z",
     "shell.execute_reply": "2024-04-05T12:45:52.813799Z",
     "shell.execute_reply.started": "2024-04-05T12:45:52.799849Z"
    }
   },
   "outputs": [
    {
     "name": "stdout",
     "output_type": "stream",
     "text": [
      "Column count: 86\n",
      "Index(['url', 'url_length', 'hostname_length', 'ip', 'total_of.', 'total_of-',\n",
      "       'total_of@', 'total_of?', 'total_of&', 'total_of=', 'total_of_',\n",
      "       'total_of~', 'total_of%', 'total_of/', 'total_of*', 'total_of:',\n",
      "       'total_of,', 'total_of;', 'total_of$', 'total_of_www', 'total_of_com',\n",
      "       'total_of_http_in_path', 'https_token', 'ratio_digits_url',\n",
      "       'ratio_digits_host', 'punycode', 'port', 'tld_in_path',\n",
      "       'tld_in_subdomain', 'abnormal_subdomain', 'nb_subdomains',\n",
      "       'prefix_suffix', 'random_domain', 'shortening_service',\n",
      "       'path_extension', 'nb_redirection', 'nb_external_redirection',\n",
      "       'length_words_raw', 'char_repeat', 'shortest_words_raw',\n",
      "       'shortest_word_host', 'shortest_word_path', 'longest_words_raw',\n",
      "       'longest_word_host', 'longest_word_path', 'avg_words_raw',\n",
      "       'avg_word_host', 'avg_word_path', 'phish_hints', 'domain_in_brand',\n",
      "       'brand_in_subdomain', 'brand_in_path', 'suspecious_tld',\n",
      "       'statistical_report', 'nb_hyperlinks', 'ratio_intHyperlinks',\n",
      "       'ratio_extHyperlinks', 'ratio_nullHyperlinks', 'nb_extCSS',\n",
      "       'ratio_intRedirection', 'ratio_extRedirection', 'ratio_intErrors',\n",
      "       'ratio_extErrors', 'login_form', 'external_favicon', 'links_in_tags',\n",
      "       'submit_email', 'ratio_intMedia', 'ratio_extMedia', 'sfh', 'iframe',\n",
      "       'popup_window', 'safe_anchor', 'onmouseover', 'right_clic',\n",
      "       'empty_title', 'domain_in_title', 'domain_with_copyright',\n",
      "       'whois_registered_domain', 'domain_registration_length', 'domain_age',\n",
      "       'web_traffic', 'dns_record', 'google_index', 'page_rank', 'status'],\n",
      "      dtype='object')\n"
     ]
    }
   ],
   "source": [
    "data = pd.DataFrame(data)\n",
    "data = data.drop(columns=['Unnamed: 0'])\n",
    "\n",
    "column_count = data.shape[1]\n",
    "\n",
    "print(\"Column count:\", column_count)\n",
    "print(data.columns)\n"
   ]
  },
  {
   "cell_type": "markdown",
   "metadata": {},
   "source": [
    "Bazı sütunlarda bütün satırların sadece bir değer aldığını görüyoruz. Bu verilere gerek yok çünkü bir değişkenlik katmıyorlar. Her bir sütundaki benzersiz değer sayısını görmek için:"
   ]
  },
  {
   "cell_type": "code",
   "execution_count": 165,
   "metadata": {
    "execution": {
     "iopub.execute_input": "2024-04-05T12:45:52.818945Z",
     "iopub.status.busy": "2024-04-05T12:45:52.818204Z",
     "iopub.status.idle": "2024-04-05T12:45:52.866556Z",
     "shell.execute_reply": "2024-04-05T12:45:52.865228Z",
     "shell.execute_reply.started": "2024-04-05T12:45:52.818865Z"
    }
   },
   "outputs": [
    {
     "name": "stdout",
     "output_type": "stream",
     "text": [
      "url: 11429\n",
      "url_length: 324\n",
      "hostname_length: 83\n",
      "ip: 2\n",
      "total_of.: 19\n",
      "total_of-: 27\n",
      "total_of@: 5\n",
      "total_of?: 4\n",
      "total_of&: 15\n",
      "total_of=: 16\n",
      "total_of_: 17\n",
      "total_of~: 2\n",
      "total_of%: 25\n",
      "total_of/: 22\n",
      "total_of*: 2\n",
      "total_of:: 6\n",
      "total_of,: 5\n",
      "total_of;: 15\n",
      "total_of$: 5\n",
      "total_of_www: 3\n",
      "total_of_com: 7\n",
      "total_of_http_in_path: 5\n",
      "https_token: 2\n",
      "ratio_digits_url: 1516\n",
      "ratio_digits_host: 255\n",
      "punycode: 2\n",
      "port: 2\n",
      "tld_in_path: 2\n",
      "tld_in_subdomain: 2\n",
      "abnormal_subdomain: 2\n",
      "nb_subdomains: 3\n",
      "prefix_suffix: 2\n",
      "random_domain: 2\n",
      "shortening_service: 2\n",
      "path_extension: 2\n",
      "nb_redirection: 7\n",
      "nb_external_redirection: 2\n",
      "length_words_raw: 54\n",
      "char_repeat: 55\n",
      "shortest_words_raw: 25\n",
      "shortest_word_host: 34\n",
      "shortest_word_path: 33\n",
      "longest_words_raw: 119\n",
      "longest_word_host: 49\n",
      "longest_word_path: 120\n",
      "avg_words_raw: 896\n",
      "avg_word_host: 174\n",
      "avg_word_path: 757\n",
      "phish_hints: 9\n",
      "domain_in_brand: 2\n",
      "brand_in_subdomain: 2\n",
      "brand_in_path: 2\n",
      "suspecious_tld: 2\n",
      "statistical_report: 3\n",
      "nb_hyperlinks: 691\n",
      "ratio_intHyperlinks: 3194\n",
      "ratio_extHyperlinks: 3341\n",
      "ratio_nullHyperlinks: 1\n",
      "nb_extCSS: 33\n",
      "ratio_intRedirection: 1\n",
      "ratio_extRedirection: 959\n",
      "ratio_intErrors: 1\n",
      "ratio_extErrors: 674\n",
      "login_form: 2\n",
      "external_favicon: 2\n",
      "links_in_tags: 475\n",
      "submit_email: 1\n",
      "ratio_intMedia: 490\n",
      "ratio_extMedia: 491\n",
      "sfh: 1\n",
      "iframe: 2\n",
      "popup_window: 2\n",
      "safe_anchor: 1083\n",
      "onmouseover: 2\n",
      "right_clic: 2\n",
      "empty_title: 2\n",
      "domain_in_title: 2\n",
      "domain_with_copyright: 6\n",
      "whois_registered_domain: 2\n",
      "domain_registration_length: 1659\n",
      "domain_age: 4430\n",
      "web_traffic: 4744\n",
      "dns_record: 2\n",
      "google_index: 2\n",
      "page_rank: 11\n",
      "status: 2\n"
     ]
    }
   ],
   "source": [
    "unique_value_counts = {col: data[col].nunique() for col in data.columns}\n",
    "\n",
    "for col, count in unique_value_counts.items():\n",
    "    print(f\"{col}: {count}\")"
   ]
  },
  {
   "cell_type": "markdown",
   "metadata": {},
   "source": [
    "Değeri 1 olanları veri setimizden silelim."
   ]
  },
  {
   "cell_type": "code",
   "execution_count": 166,
   "metadata": {
    "execution": {
     "iopub.execute_input": "2024-04-05T12:45:52.868456Z",
     "iopub.status.busy": "2024-04-05T12:45:52.867998Z",
     "iopub.status.idle": "2024-04-05T12:45:52.881597Z",
     "shell.execute_reply": "2024-04-05T12:45:52.879850Z",
     "shell.execute_reply.started": "2024-04-05T12:45:52.868413Z"
    }
   },
   "outputs": [
    {
     "name": "stdout",
     "output_type": "stream",
     "text": [
      "Column count: 81\n"
     ]
    }
   ],
   "source": [
    "columns_to_drop = [col for col, count in unique_value_counts.items() if count == 1]\n",
    "\n",
    "data.drop(columns=columns_to_drop, inplace=True)\n",
    "\n",
    "column_count = data.shape[1]\n",
    "\n",
    "print(\"Column count:\", column_count)"
   ]
  },
  {
   "cell_type": "markdown",
   "metadata": {},
   "source": [
    "'domain_with_copyright' sütununda düzensiz veri tipleri var. Kategorik olanları sayısala çevirelim."
   ]
  },
  {
   "cell_type": "code",
   "execution_count": 167,
   "metadata": {
    "execution": {
     "iopub.execute_input": "2024-04-05T12:45:52.884659Z",
     "iopub.status.busy": "2024-04-05T12:45:52.884204Z",
     "iopub.status.idle": "2024-04-05T12:45:52.898307Z",
     "shell.execute_reply": "2024-04-05T12:45:52.896947Z",
     "shell.execute_reply.started": "2024-04-05T12:45:52.884623Z"
    }
   },
   "outputs": [
    {
     "name": "stdout",
     "output_type": "stream",
     "text": [
      "0     1\n",
      "1     0\n",
      "2     0\n",
      "3     1\n",
      "4     0\n",
      "5     1\n",
      "6     0\n",
      "7     0\n",
      "8     1\n",
      "9     1\n",
      "10    0\n",
      "11    1\n",
      "12    0\n",
      "13    0\n",
      "14    1\n",
      "15    0\n",
      "16    0\n",
      "17    1\n",
      "18    0\n",
      "19    1\n",
      "20    0\n",
      "21    0\n",
      "22    0\n",
      "23    1\n",
      "24    0\n",
      "25    1\n",
      "26    0\n",
      "27    0\n",
      "28    1\n",
      "29    0\n",
      "Name: domain_with_copyright, dtype: int64\n"
     ]
    }
   ],
   "source": [
    "data = pd.DataFrame(data)\n",
    "\n",
    "data['domain_with_copyright'] = data['domain_with_copyright'].map({'one': 1, 'zero': 0, 'One': 1, 'Zero': 0, '1': 1, '0': 0})\n",
    "\n",
    "print(data['domain_with_copyright'].head(30))"
   ]
  },
  {
   "cell_type": "markdown",
   "metadata": {},
   "source": [
    "Veri setindeki 'status' sütununu 'legitimate' değerlerini 1'e ve 'phising' değerlerini 0'a dönüştürerek, bu sütunu sayısal bir forma getirelim."
   ]
  },
  {
   "cell_type": "code",
   "execution_count": 168,
   "metadata": {
    "execution": {
     "iopub.execute_input": "2024-04-05T12:45:52.900633Z",
     "iopub.status.busy": "2024-04-05T12:45:52.900181Z",
     "iopub.status.idle": "2024-04-05T12:45:52.916943Z",
     "shell.execute_reply": "2024-04-05T12:45:52.915885Z",
     "shell.execute_reply.started": "2024-04-05T12:45:52.900595Z"
    }
   },
   "outputs": [
    {
     "name": "stdout",
     "output_type": "stream",
     "text": [
      "0        0\n",
      "1        0\n",
      "2        0\n",
      "3        1\n",
      "4        1\n",
      "        ..\n",
      "19426    1\n",
      "19427    0\n",
      "19428    1\n",
      "19429    1\n",
      "19430    0\n",
      "Name: status, Length: 19431, dtype: int64\n"
     ]
    }
   ],
   "source": [
    "data = pd.DataFrame(data)\n",
    "\n",
    "data['status'] = data['status'].map({'legitimate': 1, 'phishing': 0})\n",
    "\n",
    "print(data['status'])"
   ]
  },
  {
   "cell_type": "markdown",
   "metadata": {},
   "source": [
    "Kontrol edelim."
   ]
  },
  {
   "cell_type": "code",
   "execution_count": 169,
   "metadata": {
    "execution": {
     "iopub.execute_input": "2024-04-05T12:45:52.919458Z",
     "iopub.status.busy": "2024-04-05T12:45:52.918598Z",
     "iopub.status.idle": "2024-04-05T12:45:52.934590Z",
     "shell.execute_reply": "2024-04-05T12:45:52.932695Z",
     "shell.execute_reply.started": "2024-04-05T12:45:52.919412Z"
    }
   },
   "outputs": [
    {
     "name": "stdout",
     "output_type": "stream",
     "text": [
      "'status' sütununda string ifade bulunmuyor.\n"
     ]
    }
   ],
   "source": [
    "def check_string_value(data, column_name):\n",
    "    if data[column_name].dtype == 'object':\n",
    "        print(f\"'{column_name}' sütununda string ifadeler bulunuyor.\")\n",
    "    else:\n",
    "        print(f\"'{column_name}' sütununda string ifade bulunmuyor.\")\n",
    "\n",
    "check_string_value(data, 'status')"
   ]
  },
  {
   "cell_type": "code",
   "execution_count": 170,
   "metadata": {
    "execution": {
     "iopub.execute_input": "2024-04-05T12:45:52.940782Z",
     "iopub.status.busy": "2024-04-05T12:45:52.940299Z",
     "iopub.status.idle": "2024-04-05T12:45:53.006409Z",
     "shell.execute_reply": "2024-04-05T12:45:53.004841Z",
     "shell.execute_reply.started": "2024-04-05T12:45:52.940746Z"
    }
   },
   "outputs": [
    {
     "name": "stdout",
     "output_type": "stream",
     "text": [
      "                                                     url  url_length  \\\n",
      "8003   https://support-appleld.com.secureupdate.duila...         126   \n",
      "8043   http://www.courgeon-immobilier.fr/wp-content/u...          98   \n",
      "8050   http://vaportotal.net/catalog/language/english...         159   \n",
      "8082                    http://app66560000.blogspot.com/          32   \n",
      "8085   http://marketinghelper.com.au/themes/sports/wp...          92   \n",
      "...                                                  ...         ...   \n",
      "19355  https://drive.google.com/file/d/1rngxZ2sujNVYS...          98   \n",
      "19394  http://paypal.com.0.security-confirmation.3408...          85   \n",
      "19405  https://ticonme.es/Sharep01nt_Access_Drive03/A...         149   \n",
      "19428  https://www.facebook.com/Interactive-Televisio...         105   \n",
      "19430  http://174.139.46.123/ap/signin?openid.pape.ma...         477   \n",
      "\n",
      "       hostname_length  ip  total_of.  total_of-  total_of@  total_of?  \\\n",
      "8003                50   1          4          1          0          1   \n",
      "8043                26   1          2          2          0          0   \n",
      "8050                14   1          2          0          0          1   \n",
      "8082                24   1          2          0          0          0   \n",
      "8085                22   1          2          1          0          0   \n",
      "...                ...  ..        ...        ...        ...        ...   \n",
      "19355               16   1          2          0          0          1   \n",
      "19394               77   1          7          1          0          0   \n",
      "19405               10   1          1          0          0          0   \n",
      "19428               16   1          2          6          0          1   \n",
      "19430               14   1         24          0          1          1   \n",
      "\n",
      "       total_of&  total_of=  ...  domain_in_title  domain_with_copyright  \\\n",
      "8003           2          3  ...                1                      0   \n",
      "8043           0          0  ...                1                      1   \n",
      "8050           1          2  ...                1                      1   \n",
      "8082           0          0  ...                1                      1   \n",
      "8085           0          0  ...                1                      1   \n",
      "...          ...        ...  ...              ...                    ...   \n",
      "19355          1          2  ...                0                      1   \n",
      "19394          0          0  ...                0                      0   \n",
      "19405          0          0  ...                1                      0   \n",
      "19428          0          1  ...                0                      0   \n",
      "19430          9          9  ...                1                      1   \n",
      "\n",
      "       whois_registered_domain  domain_registration_length  domain_age  \\\n",
      "8003                         0                          14        4004   \n",
      "8043                         0                         257        2300   \n",
      "8050                         0                         325        1500   \n",
      "8082                         0                         374        7296   \n",
      "8085                         0                           0          -1   \n",
      "...                        ...                         ...         ...   \n",
      "19355                        0                        2976        8346   \n",
      "19394                        0                         273          -1   \n",
      "19405                        1                           0          -1   \n",
      "19428                        0                        2809        8515   \n",
      "19430                        1                           0          -1   \n",
      "\n",
      "       web_traffic  dns_record  google_index  page_rank  status  \n",
      "8003       5828815           0             1          0       0  \n",
      "8043             0           0             1          2       0  \n",
      "8050             0           0             1          0       0  \n",
      "8082             0           0             1          5       0  \n",
      "8085             0           0             1          1       0  \n",
      "...            ...         ...           ...        ...     ...  \n",
      "19355            1           0             0         10       0  \n",
      "19394            0           0             1          0       0  \n",
      "19405            0           0             1          3       0  \n",
      "19428            8           0             1         10       1  \n",
      "19430            0           1             1          0       0  \n",
      "\n",
      "[1028 rows x 81 columns]\n"
     ]
    }
   ],
   "source": [
    "repeated_data = data[data.duplicated()]\n",
    "\n",
    "print(repeated_data)"
   ]
  },
  {
   "cell_type": "markdown",
   "metadata": {},
   "source": [
    "Bu çıktı, veri setimizin tamamının tekrarlanan satırlara sahip olmadığını gösterir. Yani, hiçbir satır tam olarak aynı değil ve veri setimizde herhangi bir tekrarlanan örnek bulunmamaktadır."
   ]
  },
  {
   "cell_type": "code",
   "execution_count": null,
   "metadata": {},
   "outputs": [],
   "source": [
    "data = pd.read_json('phishbust-data-cleaning.ipynb')\n",
    "\n",
    "data.to_csv('phishbust_dataset.csv', index=False)"
   ]
  }
 ],
 "metadata": {
  "kaggle": {
   "accelerator": "none",
   "dataSources": [
    {
     "datasetId": 4496013,
     "sourceId": 7702287,
     "sourceType": "datasetVersion"
    }
   ],
   "dockerImageVersionId": 30673,
   "isGpuEnabled": false,
   "isInternetEnabled": false,
   "language": "python",
   "sourceType": "notebook"
  },
  "kernelspec": {
   "display_name": "Python 3 (ipykernel)",
   "language": "python",
   "name": "python3"
  },
  "language_info": {
   "codemirror_mode": {
    "name": "ipython",
    "version": 3
   },
   "file_extension": ".py",
   "mimetype": "text/x-python",
   "name": "python",
   "nbconvert_exporter": "python",
   "pygments_lexer": "ipython3",
   "version": "3.11.7"
  }
 },
 "nbformat": 4,
 "nbformat_minor": 4
}
